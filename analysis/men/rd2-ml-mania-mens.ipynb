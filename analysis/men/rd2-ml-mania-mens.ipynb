{
 "cells": [
  {
   "cell_type": "markdown",
   "metadata": {},
   "source": [
    "## NCAAM March ML Mania "
   ]
  },
  {
   "cell_type": "code",
   "execution_count": 1,
   "metadata": {},
   "outputs": [],
   "source": [
    "import os\n",
    "import numpy as np\n",
    "import pandas as pd\n",
    "import seaborn as sns\n",
    "from datetime import datetime\n",
    "import matplotlib.pyplot as plt\n",
    "plt.style.use('fivethirtyeight')\n",
    "\n",
    "from sklearn.linear_model import LogisticRegression, LinearRegression\n",
    "\n",
    "os.chdir(\"../../data/men\")"
   ]
  },
  {
   "cell_type": "markdown",
   "metadata": {},
   "source": [
    "### Data\n",
    "\n",
    "- [Provided Data](https://www.kaggle.com/c/ncaam-march-mania-2021/data): 20 provided files including basic team info, box scores, and rankings\n",
    "- [KenPom data](https://kenpom.com/): Pre-tournament efficiency from KenPom\n",
    "   - Possession, player, and lineup level data is available, but not used.\n",
    "   - Possession-level efficiency metrics: \n",
    "      - `AdjDE`: Expected points allowed per 100 possessions, adjusted for opponent strength and location.\n",
    "      - `AdjDE`: Expected points allowed per 100 possessions, adjusted for opponent strength and location.\n",
    "   - Note: Adjusted Efficiency Margin (`AdjEM`) is a linear combination of `AdjDE` and `AdjOE` (`AdjOE`-`AdjDE`), so we should not include all 3 in our model.\n",
    "   \n",
    "   \n",
    "#### Changes since Rd. 1:\n",
    "\n",
    "- Use `MSampleSubmissionStage2.csv`\n",
    "- Update KenPom data with season 2021 ratings"
   ]
  },
  {
   "cell_type": "code",
   "execution_count": 2,
   "metadata": {},
   "outputs": [],
   "source": [
    "### Changes since Rd 1: \n",
    "##   - use \n",
    "## Provided\n",
    "teams_df            = pd.read_csv(\"MTeams.csv\")\n",
    "team_spellings_1_df = pd.read_csv(\"MTeamSpellings.csv\")\n",
    "team_spellings_2_df = pd.read_csv(\"MTeamSpellings_2.csv\")\n",
    "team_spellings_df   = pd.concat([team_spellings_1_df, team_spellings_2_df])\n",
    "tourney_results_df  = pd.read_csv(\"MNCAATourneyCompactResults.csv\")\n",
    "sample_submission   = pd.read_csv(\"MSampleSubmissionStage2.csv\")\n",
    "\n",
    "## Kenpom\n",
    "#kenpom_df          = pd.read_csv(\"kenpom/pre-tourney-eff/kp-pre-tourney-2002-21-combined.csv\")\n",
    "kenpom_df          = pd.read_csv(\"kenpom/pre-tourney-eff/kp-pre-tourney-2002-21-mod-21.csv\")\n",
    "kenpom_df['TeamName'] = kenpom_df['TeamName'].apply(lambda x: x.lower())\n",
    "kenpom_df = kenpom_df.merge(team_spellings_df, left_on = 'TeamName', right_on = 'TeamNameSpelling')"
   ]
  },
  {
   "cell_type": "markdown",
   "metadata": {},
   "source": [
    "Training data criteria:\n",
    "  - For Round 2, take all tournament data for past years and train the winning model from Stage 1"
   ]
  },
  {
   "cell_type": "code",
   "execution_count": 3,
   "metadata": {},
   "outputs": [],
   "source": [
    "### Create a training dataset\n",
    "tourney_results_df['Team1'] = tourney_results_df.apply(lambda x: x['WTeamID'] if x['WTeamID'] < x['LTeamID']\n",
    "                                                 else x['LTeamID'], axis = 1)\n",
    "tourney_results_df['Team2'] = tourney_results_df.apply(lambda x: x['WTeamID'] if x['WTeamID'] > x['LTeamID']\n",
    "                                                 else x['LTeamID'], axis = 1)\n",
    "## Targets\n",
    "tourney_results_df['win']   = tourney_results_df.apply(lambda x: 1 if x['Team1'] == x['WTeamID']\n",
    "                                                 else 0, axis = 1)\n",
    "tourney_results_df['spread'] = tourney_results_df.apply(lambda x: x['WScore'] - x['LScore'] if x['Team1'] == x['WTeamID']\n",
    "                                                 else x['LScore'] - x['WScore'], axis = 1)\n",
    "\n",
    "### Merge the team names \n",
    "tourney_results_df = tourney_results_df.merge(teams_df, left_on='Team1', right_on='TeamID', suffixes = ('', '_1'))\n",
    "tourney_results_df = tourney_results_df.merge(teams_df, left_on='Team2', right_on='TeamID', suffixes = ('', '_2'))\n",
    "\n",
    "### Merge KP Data by Team Name and Season and subtract Team1 - Team2 for 1st variable\n",
    "## For Team 1\n",
    "kenpom_df.columns = [c + '_1' if c[len(c)-2:] not in ['_1', '_2'] else c[:-2] + '_1' for c in kenpom_df.columns]\n",
    "tourney_results_df = tourney_results_df.merge(kenpom_df, left_on = ['Team1', 'Season'],\n",
    "                                              right_on = ['TeamID_1', 'Season_1'])\n",
    "## For Team 2\n",
    "kenpom_df.columns = [c[:-2] + '_2' for c in kenpom_df.columns]\n",
    "tourney_results_df = tourney_results_df.merge(kenpom_df, left_on = ['Team2', 'Season'],\n",
    "                                              right_on = ['TeamID_2', 'Season_2'])\n",
    "\n",
    "## Take differences between team1 and team2 for various stats\n",
    "tourney_results_df['diff_AdjEM'] = tourney_results_df['AdjEM_1'] - tourney_results_df['AdjEM_2']\n",
    "tourney_results_df['diff_AdjOE'] = tourney_results_df['AdjOE_1'] - tourney_results_df['AdjOE_2']\n",
    "tourney_results_df['diff_AdjDE'] = tourney_results_df['AdjDE_1'] - tourney_results_df['AdjDE_2']\n",
    "tourney_results_df['diff_AdjTempo'] = tourney_results_df['AdjEM_1'] - tourney_results_df['AdjEM_2']\n"
   ]
  },
  {
   "cell_type": "code",
   "execution_count": 4,
   "metadata": {},
   "outputs": [],
   "source": [
    "train_df = tourney_results_df[tourney_results_df['Season'] < 2021].copy() ## basically all data"
   ]
  },
  {
   "cell_type": "markdown",
   "metadata": {},
   "source": [
    "### Binary outcome\n",
    "\n",
    "Starting with logistic regression"
   ]
  },
  {
   "cell_type": "code",
   "execution_count": 5,
   "metadata": {},
   "outputs": [],
   "source": [
    "X = train_df['diff_AdjEM'].values.reshape(-1, 1)\n",
    "clf = LogisticRegression(random_state=0, solver='lbfgs',\n",
    "                          multi_class='ovr').fit(X, train_df['win'])\n",
    "\n",
    "probs = clf.predict_proba(X) ### first in the array is probability of 0 (loss), second is prob of win (1)\n",
    "\n",
    "train_df['fitted_probabilities'] = probs[:,1]"
   ]
  },
  {
   "cell_type": "code",
   "execution_count": 6,
   "metadata": {},
   "outputs": [
    {
     "name": "stdout",
     "output_type": "stream",
     "text": [
      "AdjEM Odds Ratio: 1.129\n"
     ]
    }
   ],
   "source": [
    "print(f\"AdjEM Odds Ratio: {np.round(np.exp(clf.coef_[0])[0], 3)}\")"
   ]
  },
  {
   "cell_type": "markdown",
   "metadata": {},
   "source": [
    "Interpretation: For every 1 point increase in a team's AdjEM margin over than their opponents, the odds that the team wins are 1.13 times greater as the odds that the team loses."
   ]
  },
  {
   "cell_type": "markdown",
   "metadata": {},
   "source": [
    "### Spread\n",
    "\n",
    "Starting with simple linear regression."
   ]
  },
  {
   "cell_type": "code",
   "execution_count": 7,
   "metadata": {},
   "outputs": [
    {
     "name": "stdout",
     "output_type": "stream",
     "text": [
      "Coefficients [0.71443931]\n",
      "R-Squared 0.414\n"
     ]
    }
   ],
   "source": [
    "reg = LinearRegression().fit(X, train_df['spread'])\n",
    "\n",
    "print(f\"Coefficients {reg.coef_}\")\n",
    "print(f\"R-Squared {np.round(reg.score(X, train_df['spread']), 3)}\")"
   ]
  },
  {
   "cell_type": "markdown",
   "metadata": {},
   "source": [
    "Interpretation: For every 1 point increase in a team's AdjEM margin over their opponents, the point spread for increases by 0.73 points in favor of that team."
   ]
  },
  {
   "cell_type": "markdown",
   "metadata": {},
   "source": [
    "### Submission\n",
    "\n",
    "Manipulate the sample submission file to add predictors."
   ]
  },
  {
   "cell_type": "code",
   "execution_count": 8,
   "metadata": {},
   "outputs": [],
   "source": [
    "## Split out the ID\n",
    "sample_submission['Season'] = sample_submission['ID'].apply(lambda x: x.split('_')[0]).astype(int)\n",
    "sample_submission['Team1'] = sample_submission['ID'].apply(lambda x: x.split('_')[1]).astype(int)\n",
    "sample_submission['Team2'] = sample_submission['ID'].apply(lambda x: x.split('_')[2]).astype(int)\n",
    "\n",
    "## Merge in the predictor variables\n",
    "## For Team 1\n",
    "kenpom_df.columns = [c + '_1' if c[len(c)-2:] not in ['_1', '_2'] else c[:-2] + '_1' for c in kenpom_df.columns]\n",
    "sample_submission = sample_submission.merge(kenpom_df, left_on = ['Team1', 'Season'],\n",
    "                                            right_on = ['TeamID_1', 'Season_1'])\n",
    "## For Team 2\n",
    "kenpom_df.columns = [c[:-2] + '_2' for c in kenpom_df.columns]\n",
    "sample_submission = sample_submission.merge(kenpom_df, left_on = ['Team2', 'Season'],\n",
    "                                              right_on = ['TeamID_2', 'Season_2'])\n",
    "## Difference\n",
    "sample_submission['diff_AdjEM'] = sample_submission['AdjEM_1'] - sample_submission['AdjEM_2']"
   ]
  },
  {
   "cell_type": "markdown",
   "metadata": {},
   "source": [
    "Make predictions using each model and save output."
   ]
  },
  {
   "cell_type": "code",
   "execution_count": 9,
   "metadata": {},
   "outputs": [
    {
     "data": {
      "text/html": [
       "<div>\n",
       "<style scoped>\n",
       "    .dataframe tbody tr th:only-of-type {\n",
       "        vertical-align: middle;\n",
       "    }\n",
       "\n",
       "    .dataframe tbody tr th {\n",
       "        vertical-align: top;\n",
       "    }\n",
       "\n",
       "    .dataframe thead th {\n",
       "        text-align: right;\n",
       "    }\n",
       "</style>\n",
       "<table border=\"1\" class=\"dataframe\">\n",
       "  <thead>\n",
       "    <tr style=\"text-align: right;\">\n",
       "      <th></th>\n",
       "      <th>ID</th>\n",
       "      <th>Pred</th>\n",
       "      <th>Season</th>\n",
       "      <th>Team1</th>\n",
       "      <th>Team2</th>\n",
       "      <th>Season_1</th>\n",
       "      <th>TeamName_1</th>\n",
       "      <th>Tempo_1</th>\n",
       "      <th>RankTempo_1</th>\n",
       "      <th>AdjTempo_1</th>\n",
       "      <th>...</th>\n",
       "      <th>AdjDE_2</th>\n",
       "      <th>RankAdjDE_2</th>\n",
       "      <th>AdjEM_2</th>\n",
       "      <th>RankAdjEM_2</th>\n",
       "      <th>seed_2</th>\n",
       "      <th>TeamNameSpelling_2</th>\n",
       "      <th>TeamID_2</th>\n",
       "      <th>diff_AdjEM</th>\n",
       "      <th>Pred_prob</th>\n",
       "      <th>Pred_spread</th>\n",
       "    </tr>\n",
       "  </thead>\n",
       "  <tbody>\n",
       "    <tr>\n",
       "      <th>0</th>\n",
       "      <td>2021_1101_1104</td>\n",
       "      <td>0.5</td>\n",
       "      <td>2021</td>\n",
       "      <td>1101</td>\n",
       "      <td>1104</td>\n",
       "      <td>2021</td>\n",
       "      <td>abilene christian</td>\n",
       "      <td>71.6065</td>\n",
       "      <td>74</td>\n",
       "      <td>69.9579</td>\n",
       "      <td>...</td>\n",
       "      <td>86.0017</td>\n",
       "      <td>2</td>\n",
       "      <td>26.41620</td>\n",
       "      <td>8</td>\n",
       "      <td>NaN</td>\n",
       "      <td>alabama</td>\n",
       "      <td>1104</td>\n",
       "      <td>-14.86030</td>\n",
       "      <td>0.133666</td>\n",
       "      <td>-11.095298</td>\n",
       "    </tr>\n",
       "    <tr>\n",
       "      <th>1</th>\n",
       "      <td>2021_1101_1111</td>\n",
       "      <td>0.5</td>\n",
       "      <td>2021</td>\n",
       "      <td>1101</td>\n",
       "      <td>1111</td>\n",
       "      <td>2021</td>\n",
       "      <td>abilene christian</td>\n",
       "      <td>71.6065</td>\n",
       "      <td>74</td>\n",
       "      <td>69.9579</td>\n",
       "      <td>...</td>\n",
       "      <td>103.0060</td>\n",
       "      <td>205</td>\n",
       "      <td>-2.90939</td>\n",
       "      <td>209</td>\n",
       "      <td>NaN</td>\n",
       "      <td>appalachian st.</td>\n",
       "      <td>1111</td>\n",
       "      <td>14.46529</td>\n",
       "      <td>0.844721</td>\n",
       "      <td>9.856056</td>\n",
       "    </tr>\n",
       "    <tr>\n",
       "      <th>2</th>\n",
       "      <td>2021_1104_1111</td>\n",
       "      <td>0.5</td>\n",
       "      <td>2021</td>\n",
       "      <td>1104</td>\n",
       "      <td>1111</td>\n",
       "      <td>2021</td>\n",
       "      <td>alabama</td>\n",
       "      <td>75.1471</td>\n",
       "      <td>10</td>\n",
       "      <td>73.9322</td>\n",
       "      <td>...</td>\n",
       "      <td>103.0060</td>\n",
       "      <td>205</td>\n",
       "      <td>-2.90939</td>\n",
       "      <td>209</td>\n",
       "      <td>NaN</td>\n",
       "      <td>appalachian st.</td>\n",
       "      <td>1111</td>\n",
       "      <td>29.32559</td>\n",
       "      <td>0.970663</td>\n",
       "      <td>20.472838</td>\n",
       "    </tr>\n",
       "    <tr>\n",
       "      <th>3</th>\n",
       "      <td>2021_1101_1116</td>\n",
       "      <td>0.5</td>\n",
       "      <td>2021</td>\n",
       "      <td>1101</td>\n",
       "      <td>1116</td>\n",
       "      <td>2021</td>\n",
       "      <td>abilene christian</td>\n",
       "      <td>71.6065</td>\n",
       "      <td>74</td>\n",
       "      <td>69.9579</td>\n",
       "      <td>...</td>\n",
       "      <td>89.2402</td>\n",
       "      <td>14</td>\n",
       "      <td>22.95780</td>\n",
       "      <td>18</td>\n",
       "      <td>NaN</td>\n",
       "      <td>arkansas</td>\n",
       "      <td>1116</td>\n",
       "      <td>-11.40190</td>\n",
       "      <td>0.190191</td>\n",
       "      <td>-8.624481</td>\n",
       "    </tr>\n",
       "    <tr>\n",
       "      <th>4</th>\n",
       "      <td>2021_1104_1116</td>\n",
       "      <td>0.5</td>\n",
       "      <td>2021</td>\n",
       "      <td>1104</td>\n",
       "      <td>1116</td>\n",
       "      <td>2021</td>\n",
       "      <td>alabama</td>\n",
       "      <td>75.1471</td>\n",
       "      <td>10</td>\n",
       "      <td>73.9322</td>\n",
       "      <td>...</td>\n",
       "      <td>89.2402</td>\n",
       "      <td>14</td>\n",
       "      <td>22.95780</td>\n",
       "      <td>18</td>\n",
       "      <td>NaN</td>\n",
       "      <td>arkansas</td>\n",
       "      <td>1116</td>\n",
       "      <td>3.45840</td>\n",
       "      <td>0.588211</td>\n",
       "      <td>1.992301</td>\n",
       "    </tr>\n",
       "  </tbody>\n",
       "</table>\n",
       "<p>5 rows × 46 columns</p>\n",
       "</div>"
      ],
      "text/plain": [
       "               ID  Pred  Season  Team1  Team2  Season_1         TeamName_1  \\\n",
       "0  2021_1101_1104   0.5    2021   1101   1104      2021  abilene christian   \n",
       "1  2021_1101_1111   0.5    2021   1101   1111      2021  abilene christian   \n",
       "2  2021_1104_1111   0.5    2021   1104   1111      2021            alabama   \n",
       "3  2021_1101_1116   0.5    2021   1101   1116      2021  abilene christian   \n",
       "4  2021_1104_1116   0.5    2021   1104   1116      2021            alabama   \n",
       "\n",
       "   Tempo_1  RankTempo_1  AdjTempo_1  ...   AdjDE_2  RankAdjDE_2   AdjEM_2  \\\n",
       "0  71.6065           74     69.9579  ...   86.0017            2  26.41620   \n",
       "1  71.6065           74     69.9579  ...  103.0060          205  -2.90939   \n",
       "2  75.1471           10     73.9322  ...  103.0060          205  -2.90939   \n",
       "3  71.6065           74     69.9579  ...   89.2402           14  22.95780   \n",
       "4  75.1471           10     73.9322  ...   89.2402           14  22.95780   \n",
       "\n",
       "   RankAdjEM_2  seed_2  TeamNameSpelling_2  TeamID_2  diff_AdjEM  Pred_prob  \\\n",
       "0            8     NaN             alabama      1104   -14.86030   0.133666   \n",
       "1          209     NaN     appalachian st.      1111    14.46529   0.844721   \n",
       "2          209     NaN     appalachian st.      1111    29.32559   0.970663   \n",
       "3           18     NaN            arkansas      1116   -11.40190   0.190191   \n",
       "4           18     NaN            arkansas      1116     3.45840   0.588211   \n",
       "\n",
       "   Pred_spread  \n",
       "0   -11.095298  \n",
       "1     9.856056  \n",
       "2    20.472838  \n",
       "3    -8.624481  \n",
       "4     1.992301  \n",
       "\n",
       "[5 rows x 46 columns]"
      ]
     },
     "execution_count": 9,
     "metadata": {},
     "output_type": "execute_result"
    }
   ],
   "source": [
    "## Submission matrix\n",
    "X = sample_submission['diff_AdjEM'].values.reshape(-1, 1)\n",
    "\n",
    "## Win probability predictions\n",
    "sample_submission['Pred_prob'] = clf.predict_proba(X)[:,1]\n",
    "\n",
    "## Point spread predictions\n",
    "sample_submission['Pred_spread'] = reg.predict(X)\n",
    "\n",
    "sample_submission.head()"
   ]
  },
  {
   "cell_type": "code",
   "execution_count": 10,
   "metadata": {},
   "outputs": [],
   "source": [
    "(sample_submission[['ID', 'Pred_prob']].rename(columns = {'Pred_prob': 'Pred'})\n",
    "   .to_csv(f\"subs/submission_probs_untrimmed_{datetime.today().strftime('%Y-%m-%d')}.csv\", index = False))\n",
    "\n",
    "(sample_submission[['ID', 'Pred_spread']].rename(columns = {'Pred_spread': 'Pred'})\n",
    "   .to_csv(f\"subs/submission_spread_{datetime.today().strftime('%Y-%m-%d')}.csv\", index = False))"
   ]
  },
  {
   "cell_type": "code",
   "execution_count": 11,
   "metadata": {},
   "outputs": [],
   "source": [
    "### Trimming probabilities based on residual analysis for round 1.\n",
    "sample_submission['Pred_prob_trim'] = sample_submission['Pred_prob'].apply(lambda x: 0.95 if x >= 0.95\n",
    "                                                                          else 0.05 if x <= 0.05\n",
    "                                                                          else x)\n",
    "(sample_submission[['ID', 'Pred_prob_trim']].rename(columns = {'Pred_prob_trim': 'Pred'})\n",
    "   .to_csv(f\"subs/submission_probs_trimmed_{datetime.today().strftime('%Y-%m-%d')}.csv\", index = False))\n"
   ]
  },
  {
   "cell_type": "code",
   "execution_count": 12,
   "metadata": {},
   "outputs": [],
   "source": [
    "### Writing out one with names to throw into a searchable table\n",
    "sample_submission['Pred_prob_trim'] = sample_submission['Pred_prob'].apply(lambda x: 0.95 if x >= 0.95\n",
    "                                                                          else 0.05 if x <= 0.05\n",
    "                                                                          else x)\n",
    "\n",
    "(sample_submission[['ID', 'TeamName_1', 'TeamName_2', 'Pred_prob',\n",
    "                    'Pred_prob_trim', 'Pred_spread']]\n",
    "   .rename(columns = {'Pred_prob_trim': 'trimmed_prob',\n",
    "                      'Pred_prob': 'prob',\n",
    "                      'Pred_spread': 'spread'})\n",
    "   .to_csv(f\"subs/submission_w_names_probs_trimmed_2021-03-17.csv\", index = False))"
   ]
  }
 ],
 "metadata": {
  "kernelspec": {
   "display_name": "Python 3",
   "language": "python",
   "name": "python3"
  },
  "language_info": {
   "codemirror_mode": {
    "name": "ipython",
    "version": 3
   },
   "file_extension": ".py",
   "mimetype": "text/x-python",
   "name": "python",
   "nbconvert_exporter": "python",
   "pygments_lexer": "ipython3",
   "version": "3.7.5"
  }
 },
 "nbformat": 4,
 "nbformat_minor": 2
}
